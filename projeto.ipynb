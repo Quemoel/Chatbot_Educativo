{
 "cells": [
  {
   "cell_type": "code",
   "execution_count": 8,
   "metadata": {},
   "outputs": [],
   "source": [
    "import random\n",
    "import json\n",
    "import numpy as np\n",
    "import tensorflow as tf\n",
    "from tensorflow import keras\n",
    "from tensorflow.keras.preprocessing.text import Tokenizer\n",
    "from tensorflow.keras.preprocessing.sequence import pad_sequences\n"
   ]
  },
  {
   "cell_type": "code",
   "execution_count": 12,
   "metadata": {},
   "outputs": [],
   "source": [
    "with open('intents.json', 'r') as file:\n",
    "    intents = json.load(file)\n"
   ]
  },
  {
   "cell_type": "code",
   "execution_count": 13,
   "metadata": {},
   "outputs": [],
   "source": [
    "patterns = []\n",
    "responses = []\n",
    "tags = []\n",
    "for intent in intents['intents']:\n",
    "    for pattern in intent['padroes']:\n",
    "        patterns.append(pattern)\n",
    "        responses.append(intent['respostas'])\n",
    "        tags.append(intent['tag'])\n"
   ]
  },
  {
   "cell_type": "code",
   "execution_count": 14,
   "metadata": {},
   "outputs": [],
   "source": [
    "\n",
    "tokenizer = Tokenizer(oov_token='<OOV>')\n",
    "tokenizer.fit_on_texts(patterns)\n",
    "word_index = tokenizer.word_index\n",
    "sequences = tokenizer.texts_to_sequences(patterns)\n",
    "sequences_padded = pad_sequences(sequences, padding='post')\n"
   ]
  },
  {
   "cell_type": "code",
   "execution_count": 15,
   "metadata": {},
   "outputs": [],
   "source": [
    "responses_onehot = np.zeros((len(tags), len(tags)), dtype='int32')\n",
    "for i, tag in enumerate(tags):\n",
    "    responses_onehot[i][i] = 1\n"
   ]
  },
  {
   "cell_type": "code",
   "execution_count": 16,
   "metadata": {},
   "outputs": [],
   "source": [
    "model = keras.Sequential([\n",
    "    keras.layers.Embedding(len(word_index) + 1, 128),\n",
    "    keras.layers.LSTM(128),\n",
    "    keras.layers.Dense(64, activation='relu'),\n",
    "    keras.layers.Dense(len(tags), activation='softmax')\n",
    "])\n"
   ]
  },
  {
   "cell_type": "code",
   "execution_count": 17,
   "metadata": {},
   "outputs": [],
   "source": [
    "model.compile(optimizer='adam', loss='categorical_crossentropy', metrics=['accuracy'])\n"
   ]
  },
  {
   "cell_type": "code",
   "execution_count": 18,
   "metadata": {},
   "outputs": [
    {
     "name": "stdout",
     "output_type": "stream",
     "text": [
      "Epoch 1/100\n",
      "6/6 [==============================] - 3s 6ms/step - loss: 3.8385 - accuracy: 0.0000e+00\n",
      "Epoch 2/100\n",
      "6/6 [==============================] - 0s 6ms/step - loss: 3.8280 - accuracy: 0.0652\n",
      "Epoch 3/100\n",
      "6/6 [==============================] - 0s 6ms/step - loss: 3.8229 - accuracy: 0.0870\n",
      "Epoch 4/100\n",
      "6/6 [==============================] - 0s 6ms/step - loss: 3.8175 - accuracy: 0.0870\n",
      "Epoch 5/100\n",
      "6/6 [==============================] - 0s 6ms/step - loss: 3.8114 - accuracy: 0.1087\n",
      "Epoch 6/100\n",
      "6/6 [==============================] - 0s 6ms/step - loss: 3.8021 - accuracy: 0.1522\n",
      "Epoch 7/100\n",
      "6/6 [==============================] - 0s 6ms/step - loss: 3.7791 - accuracy: 0.1522\n",
      "Epoch 8/100\n",
      "6/6 [==============================] - 0s 6ms/step - loss: 3.7418 - accuracy: 0.1304\n",
      "Epoch 9/100\n",
      "6/6 [==============================] - 0s 6ms/step - loss: 3.6503 - accuracy: 0.1522\n",
      "Epoch 10/100\n",
      "6/6 [==============================] - 0s 7ms/step - loss: 3.4900 - accuracy: 0.0870\n",
      "Epoch 11/100\n",
      "6/6 [==============================] - 0s 6ms/step - loss: 3.3105 - accuracy: 0.1087\n",
      "Epoch 12/100\n",
      "6/6 [==============================] - 0s 6ms/step - loss: 3.0594 - accuracy: 0.1304\n",
      "Epoch 13/100\n",
      "6/6 [==============================] - 0s 7ms/step - loss: 2.8345 - accuracy: 0.1957\n",
      "Epoch 14/100\n",
      "6/6 [==============================] - 0s 6ms/step - loss: 2.6312 - accuracy: 0.1522\n",
      "Epoch 15/100\n",
      "6/6 [==============================] - 0s 6ms/step - loss: 2.3646 - accuracy: 0.2826\n",
      "Epoch 16/100\n",
      "6/6 [==============================] - 0s 6ms/step - loss: 2.0932 - accuracy: 0.3478\n",
      "Epoch 17/100\n",
      "6/6 [==============================] - 0s 6ms/step - loss: 1.9016 - accuracy: 0.4783\n",
      "Epoch 18/100\n",
      "6/6 [==============================] - 0s 6ms/step - loss: 1.6768 - accuracy: 0.6304\n",
      "Epoch 19/100\n",
      "6/6 [==============================] - 0s 6ms/step - loss: 1.4492 - accuracy: 0.6304\n",
      "Epoch 20/100\n",
      "6/6 [==============================] - 0s 6ms/step - loss: 1.2841 - accuracy: 0.7391\n",
      "Epoch 21/100\n",
      "6/6 [==============================] - 0s 6ms/step - loss: 1.1650 - accuracy: 0.7826\n",
      "Epoch 22/100\n",
      "6/6 [==============================] - 0s 6ms/step - loss: 1.0494 - accuracy: 0.7609\n",
      "Epoch 23/100\n",
      "6/6 [==============================] - 0s 5ms/step - loss: 0.9458 - accuracy: 0.8261\n",
      "Epoch 24/100\n",
      "6/6 [==============================] - 0s 6ms/step - loss: 0.8231 - accuracy: 0.8478\n",
      "Epoch 25/100\n",
      "6/6 [==============================] - 0s 9ms/step - loss: 0.7170 - accuracy: 0.8696\n",
      "Epoch 26/100\n",
      "6/6 [==============================] - 0s 6ms/step - loss: 0.6275 - accuracy: 0.8913\n",
      "Epoch 27/100\n",
      "6/6 [==============================] - 0s 6ms/step - loss: 0.5581 - accuracy: 0.9130\n",
      "Epoch 28/100\n",
      "6/6 [==============================] - 0s 6ms/step - loss: 0.5516 - accuracy: 0.8913\n",
      "Epoch 29/100\n",
      "6/6 [==============================] - 0s 6ms/step - loss: 0.4984 - accuracy: 0.8913\n",
      "Epoch 30/100\n",
      "6/6 [==============================] - 0s 5ms/step - loss: 0.4605 - accuracy: 0.9130\n",
      "Epoch 31/100\n",
      "6/6 [==============================] - 0s 5ms/step - loss: 0.3641 - accuracy: 0.9130\n",
      "Epoch 32/100\n",
      "6/6 [==============================] - 0s 6ms/step - loss: 0.3335 - accuracy: 0.9565\n",
      "Epoch 33/100\n",
      "6/6 [==============================] - 0s 5ms/step - loss: 0.2969 - accuracy: 0.9565\n",
      "Epoch 34/100\n",
      "6/6 [==============================] - 0s 6ms/step - loss: 0.2749 - accuracy: 0.9565\n",
      "Epoch 35/100\n",
      "6/6 [==============================] - 0s 6ms/step - loss: 0.2481 - accuracy: 0.9565\n",
      "Epoch 36/100\n",
      "6/6 [==============================] - 0s 6ms/step - loss: 0.2279 - accuracy: 0.9565\n",
      "Epoch 37/100\n",
      "6/6 [==============================] - 0s 6ms/step - loss: 0.2174 - accuracy: 0.9348\n",
      "Epoch 38/100\n",
      "6/6 [==============================] - 0s 6ms/step - loss: 0.1957 - accuracy: 0.9565\n",
      "Epoch 39/100\n",
      "6/6 [==============================] - 0s 7ms/step - loss: 0.1856 - accuracy: 0.9348\n",
      "Epoch 40/100\n",
      "6/6 [==============================] - 0s 7ms/step - loss: 0.1724 - accuracy: 0.9348\n",
      "Epoch 41/100\n",
      "6/6 [==============================] - 0s 6ms/step - loss: 0.1645 - accuracy: 0.9565\n",
      "Epoch 42/100\n",
      "6/6 [==============================] - 0s 5ms/step - loss: 0.1541 - accuracy: 0.9565\n",
      "Epoch 43/100\n",
      "6/6 [==============================] - 0s 6ms/step - loss: 0.1535 - accuracy: 0.9348\n",
      "Epoch 44/100\n",
      "6/6 [==============================] - 0s 6ms/step - loss: 0.1471 - accuracy: 0.9348\n",
      "Epoch 45/100\n",
      "6/6 [==============================] - 0s 6ms/step - loss: 0.1391 - accuracy: 0.9565\n",
      "Epoch 46/100\n",
      "6/6 [==============================] - 0s 6ms/step - loss: 0.1345 - accuracy: 0.9565\n",
      "Epoch 47/100\n",
      "6/6 [==============================] - 0s 5ms/step - loss: 0.1349 - accuracy: 0.9348\n",
      "Epoch 48/100\n",
      "6/6 [==============================] - 0s 6ms/step - loss: 0.1244 - accuracy: 0.9348\n",
      "Epoch 49/100\n",
      "6/6 [==============================] - 0s 6ms/step - loss: 0.1191 - accuracy: 0.9565\n",
      "Epoch 50/100\n",
      "6/6 [==============================] - 0s 5ms/step - loss: 0.1236 - accuracy: 0.9565\n",
      "Epoch 51/100\n",
      "6/6 [==============================] - 0s 7ms/step - loss: 0.1230 - accuracy: 0.9348\n",
      "Epoch 52/100\n",
      "6/6 [==============================] - 0s 6ms/step - loss: 0.1148 - accuracy: 0.9565\n",
      "Epoch 53/100\n",
      "6/6 [==============================] - 0s 6ms/step - loss: 0.1091 - accuracy: 0.9565\n",
      "Epoch 54/100\n",
      "6/6 [==============================] - 0s 5ms/step - loss: 0.1080 - accuracy: 0.9565\n",
      "Epoch 55/100\n",
      "6/6 [==============================] - 0s 6ms/step - loss: 0.1039 - accuracy: 0.9565\n",
      "Epoch 56/100\n",
      "6/6 [==============================] - 0s 6ms/step - loss: 0.1063 - accuracy: 0.9565\n",
      "Epoch 57/100\n",
      "6/6 [==============================] - 0s 6ms/step - loss: 0.1027 - accuracy: 0.9565\n",
      "Epoch 58/100\n",
      "6/6 [==============================] - 0s 6ms/step - loss: 0.1010 - accuracy: 0.9348\n",
      "Epoch 59/100\n",
      "6/6 [==============================] - 0s 5ms/step - loss: 0.1029 - accuracy: 0.9348\n",
      "Epoch 60/100\n",
      "6/6 [==============================] - 0s 6ms/step - loss: 0.0982 - accuracy: 0.9565\n",
      "Epoch 61/100\n",
      "6/6 [==============================] - 0s 6ms/step - loss: 0.0960 - accuracy: 0.9348\n",
      "Epoch 62/100\n",
      "6/6 [==============================] - 0s 6ms/step - loss: 0.0949 - accuracy: 0.9348\n",
      "Epoch 63/100\n",
      "6/6 [==============================] - 0s 7ms/step - loss: 0.0933 - accuracy: 0.9565\n",
      "Epoch 64/100\n",
      "6/6 [==============================] - 0s 6ms/step - loss: 0.0897 - accuracy: 0.9565\n",
      "Epoch 65/100\n",
      "6/6 [==============================] - 0s 11ms/step - loss: 0.0909 - accuracy: 0.9565\n",
      "Epoch 66/100\n",
      "6/6 [==============================] - 0s 12ms/step - loss: 0.0911 - accuracy: 0.9565\n",
      "Epoch 67/100\n",
      "6/6 [==============================] - 0s 9ms/step - loss: 0.0876 - accuracy: 0.9565\n",
      "Epoch 68/100\n",
      "6/6 [==============================] - 0s 6ms/step - loss: 0.0938 - accuracy: 0.9348\n",
      "Epoch 69/100\n",
      "6/6 [==============================] - 0s 7ms/step - loss: 0.0901 - accuracy: 0.9565\n",
      "Epoch 70/100\n",
      "6/6 [==============================] - 0s 7ms/step - loss: 0.0894 - accuracy: 0.9565\n",
      "Epoch 71/100\n",
      "6/6 [==============================] - 0s 6ms/step - loss: 0.0862 - accuracy: 0.9348\n",
      "Epoch 72/100\n",
      "6/6 [==============================] - 0s 7ms/step - loss: 0.0858 - accuracy: 0.9130\n",
      "Epoch 73/100\n",
      "6/6 [==============================] - 0s 8ms/step - loss: 0.0825 - accuracy: 0.9565\n",
      "Epoch 74/100\n",
      "6/6 [==============================] - 0s 7ms/step - loss: 0.0843 - accuracy: 0.9348\n",
      "Epoch 75/100\n",
      "6/6 [==============================] - 0s 6ms/step - loss: 0.0807 - accuracy: 0.9348\n",
      "Epoch 76/100\n",
      "6/6 [==============================] - 0s 6ms/step - loss: 0.0825 - accuracy: 0.9565\n",
      "Epoch 77/100\n",
      "6/6 [==============================] - 0s 6ms/step - loss: 0.0837 - accuracy: 0.9348\n",
      "Epoch 78/100\n",
      "6/6 [==============================] - 0s 7ms/step - loss: 0.0819 - accuracy: 0.9348\n",
      "Epoch 79/100\n",
      "6/6 [==============================] - 0s 6ms/step - loss: 0.0819 - accuracy: 0.9565\n",
      "Epoch 80/100\n",
      "6/6 [==============================] - 0s 6ms/step - loss: 0.0826 - accuracy: 0.9348\n",
      "Epoch 81/100\n",
      "6/6 [==============================] - 0s 6ms/step - loss: 0.0803 - accuracy: 0.9565\n",
      "Epoch 82/100\n",
      "6/6 [==============================] - 0s 6ms/step - loss: 0.0814 - accuracy: 0.9348\n",
      "Epoch 83/100\n",
      "6/6 [==============================] - 0s 10ms/step - loss: 0.0796 - accuracy: 0.9348\n",
      "Epoch 84/100\n",
      "6/6 [==============================] - 0s 8ms/step - loss: 0.0777 - accuracy: 0.9348\n",
      "Epoch 85/100\n",
      "6/6 [==============================] - 0s 7ms/step - loss: 0.0789 - accuracy: 0.9348\n",
      "Epoch 86/100\n",
      "6/6 [==============================] - 0s 5ms/step - loss: 0.0758 - accuracy: 0.9565\n",
      "Epoch 87/100\n",
      "6/6 [==============================] - 0s 6ms/step - loss: 0.0775 - accuracy: 0.9348\n",
      "Epoch 88/100\n",
      "6/6 [==============================] - 0s 6ms/step - loss: 0.0820 - accuracy: 0.9565\n",
      "Epoch 89/100\n",
      "6/6 [==============================] - 0s 6ms/step - loss: 0.0786 - accuracy: 0.9565\n",
      "Epoch 90/100\n",
      "6/6 [==============================] - 0s 6ms/step - loss: 0.0778 - accuracy: 0.9565\n",
      "Epoch 91/100\n",
      "6/6 [==============================] - 0s 6ms/step - loss: 0.0752 - accuracy: 0.9348\n",
      "Epoch 92/100\n",
      "6/6 [==============================] - 0s 7ms/step - loss: 0.0760 - accuracy: 0.9565\n",
      "Epoch 93/100\n",
      "6/6 [==============================] - 0s 8ms/step - loss: 0.0737 - accuracy: 0.9565\n",
      "Epoch 94/100\n",
      "6/6 [==============================] - 0s 7ms/step - loss: 0.0755 - accuracy: 0.9565\n",
      "Epoch 95/100\n",
      "6/6 [==============================] - 0s 6ms/step - loss: 0.0735 - accuracy: 0.9565\n",
      "Epoch 96/100\n",
      "6/6 [==============================] - 0s 6ms/step - loss: 0.0756 - accuracy: 0.9565\n",
      "Epoch 97/100\n",
      "6/6 [==============================] - 0s 6ms/step - loss: 0.0780 - accuracy: 0.9565\n",
      "Epoch 98/100\n",
      "6/6 [==============================] - 0s 6ms/step - loss: 0.0748 - accuracy: 0.9565\n",
      "Epoch 99/100\n",
      "6/6 [==============================] - 0s 6ms/step - loss: 0.0758 - accuracy: 0.9348\n",
      "Epoch 100/100\n",
      "6/6 [==============================] - 0s 5ms/step - loss: 0.0780 - accuracy: 0.9130\n"
     ]
    },
    {
     "data": {
      "text/plain": [
       "<keras.src.callbacks.History at 0x26c3f438490>"
      ]
     },
     "execution_count": 18,
     "metadata": {},
     "output_type": "execute_result"
    }
   ],
   "source": [
    "model.fit(sequences_padded, responses_onehot, epochs=100, batch_size=8)\n"
   ]
  },
  {
   "cell_type": "code",
   "execution_count": 19,
   "metadata": {},
   "outputs": [],
   "source": [
    "def chatbot_response(user_input):\n",
    "    sequence = tokenizer.texts_to_sequences([user_input])\n",
    "    sequence_padded = pad_sequences(sequence, padding='post', maxlen=len(sequences_padded[0]))\n",
    "    predicted_index = np.argmax(model.predict(sequence_padded), axis=-1)[0]\n",
    "    tag = tags[predicted_index]\n",
    "    responses_list = responses[predicted_index]\n",
    "    return random.choice(responses_list)\n"
   ]
  },
  {
   "cell_type": "code",
   "execution_count": 20,
   "metadata": {},
   "outputs": [
    {
     "name": "stdout",
     "output_type": "stream",
     "text": [
      "1/1 [==============================] - 0s 385ms/step\n",
      "Chatbot: OlÃ¡, como posso ajudar?\n",
      "1/1 [==============================] - 0s 19ms/step\n",
      "Chatbot: OlÃ¡, obrigado por perguntar\n",
      "1/1 [==============================] - 0s 19ms/step\n",
      "Chatbot: Navegando para o mÃ³dulo de reaÃ§Ãµes adversas a medicamentos\n"
     ]
    }
   ],
   "source": [
    "while True:\n",
    "    user_input = input(\"Você: \")\n",
    "    if user_input.lower() == 'sair':\n",
    "        break\n",
    "    response = chatbot_response(user_input)\n",
    "    print(\"Chatbot: \" + response)\n"
   ]
  },
  {
   "cell_type": "code",
   "execution_count": 6,
   "metadata": {},
   "outputs": [
    {
     "ename": "ModuleNotFoundError",
     "evalue": "No module named 'unidecode'",
     "output_type": "error",
     "traceback": [
      "\u001b[1;31m---------------------------------------------------------------------------\u001b[0m",
      "\u001b[1;31mModuleNotFoundError\u001b[0m                       Traceback (most recent call last)",
      "Cell \u001b[1;32mIn[6], line 1\u001b[0m\n\u001b[1;32m----> 1\u001b[0m \u001b[39mimport\u001b[39;00m \u001b[39munidecode\u001b[39;00m\n\u001b[0;32m      3\u001b[0m \u001b[39mdef\u001b[39;00m \u001b[39mchatbot_response\u001b[39m(user_input):\n\u001b[0;32m      4\u001b[0m     user_input \u001b[39m=\u001b[39m unidecode\u001b[39m.\u001b[39munidecode(user_input)  \u001b[39m# Remover acentos e caracteres especiais\u001b[39;00m\n",
      "\u001b[1;31mModuleNotFoundError\u001b[0m: No module named 'unidecode'"
     ]
    }
   ],
   "source": [
    "import unidecode\n",
    "\n",
    "def chatbot_response(user_input):\n",
    "    user_input = unidecode.unidecode(user_input)  # Remover acentos e caracteres especiais\n",
    "    sequence = tokenizer.texts_to_sequences([user_input])\n",
    "    sequence_padded = pad_sequences(sequence, padding='post', maxlen=len(sequences_padded[0]))\n",
    "    predicted_index = np.argmax(model.predict(sequence_padded), axis=-1)[0]\n",
    "    tag = tags[predicted_index]\n",
    "    responses_list = responses[predicted_index]\n",
    "    return random.choice(responses_list)\n"
   ]
  },
  {
   "cell_type": "code",
   "execution_count": null,
   "metadata": {},
   "outputs": [],
   "source": []
  },
  {
   "cell_type": "code",
   "execution_count": null,
   "metadata": {},
   "outputs": [],
   "source": []
  }
 ],
 "metadata": {
  "kernelspec": {
   "display_name": "Python 3",
   "language": "python",
   "name": "python3"
  },
  "language_info": {
   "codemirror_mode": {
    "name": "ipython",
    "version": 3
   },
   "file_extension": ".py",
   "mimetype": "text/x-python",
   "name": "python",
   "nbconvert_exporter": "python",
   "pygments_lexer": "ipython3",
   "version": "3.11.4"
  },
  "orig_nbformat": 4
 },
 "nbformat": 4,
 "nbformat_minor": 2
}
